{
 "cells": [
  {
   "cell_type": "code",
   "execution_count": null,
   "id": "b832070f",
   "metadata": {},
   "outputs": [
    {
     "name": "stdout",
     "output_type": "stream",
     "text": [
      "Welcome to E-Note Book!\n",
      "Please select an option:\n",
      "Press 1 for generate note\n",
      "Press 2 for view note\n",
      "Press 4 for exit\n",
      "Enter your choice: 2\n",
      "Existing Notes:\n",
      "\n",
      "Note Generator :Vilas Prasad\n",
      "E-Note Title: Python Introduction\n",
      "E-Note Description: Python Higher Level Programming Language\n",
      "Note Generator :Dhaval Patel\n",
      "E-Note Title: Django\n",
      "E-Note Description: Django is a high-level Python web framework\n",
      "\n",
      "Welcome to E-Note Book!\n",
      "Please select an option:\n",
      "Press 1 for generate note\n",
      "Press 2 for view note\n",
      "Press 4 for exit\n"
     ]
    }
   ],
   "source": [
    "def generate_note():\n",
    "    Note_Generator = input(\"Enter python E-Note Generator Name: \")\n",
    "    E_Note_Title = input(\"Enter python E-Note Title: \")\n",
    "    E_Note_Description = input(\"Enter E-Note Content: \")\n",
    "    note = f\"Note Generator :{Note_Generator}\\nE-Note Title: {E_Note_Title}\\nE-Note Description: {E_Note_Description}\\n\"\n",
    "    with open(\"notes1.txt\", \"a\") as file:\n",
    "        file.write(note)\n",
    "    print(\"Note generated successfully!\")\n",
    "\n",
    "\n",
    "def view_notes():\n",
    "    try:\n",
    "        with open(\"notes1.txt\", \"r\") as file:\n",
    "            notes = file.read()\n",
    "            print(\"Existing Notes:\\n\")\n",
    "            print(notes)\n",
    "    except FileNotFoundError:\n",
    "        print(\"No notes found!\")\n",
    "\n",
    "\n",
    "def display_menu():\n",
    "    print(\"Welcome to E-Note Book!\")\n",
    "    print(\"Please select an option:\")\n",
    "    print(\"Press 1 for generate note\")\n",
    "    print(\"Press 2 for view note\")\n",
    "    print(\"Press 4 for exit\")\n",
    "\n",
    "\n",
    "while True:\n",
    "    display_menu()\n",
    "    choice = input(\"Enter your choice: \")\n",
    "\n",
    "    if choice == \"1\" :\n",
    "        generate_note()\n",
    "    elif choice == \"2\" :\n",
    "        view_notes()\n",
    "    elif choice == \"4\":\n",
    "        print(\"Thank you for using E-Note Book. Goodbye!\")\n",
    "        break\n",
    "    else:\n",
    "        print(\"Invalid choice. Please try again.\")"
   ]
  },
  {
   "cell_type": "code",
   "execution_count": null,
   "id": "6083057e",
   "metadata": {},
   "outputs": [],
   "source": []
  }
 ],
 "metadata": {
  "kernelspec": {
   "display_name": "Python 3 (ipykernel)",
   "language": "python",
   "name": "python3"
  },
  "language_info": {
   "codemirror_mode": {
    "name": "ipython",
    "version": 3
   },
   "file_extension": ".py",
   "mimetype": "text/x-python",
   "name": "python",
   "nbconvert_exporter": "python",
   "pygments_lexer": "ipython3",
   "version": "3.11.0"
  }
 },
 "nbformat": 4,
 "nbformat_minor": 5
}
